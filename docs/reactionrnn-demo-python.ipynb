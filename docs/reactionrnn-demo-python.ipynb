{
 "cells": [
  {
   "cell_type": "markdown",
   "metadata": {},
   "source": [
    "# reactionrnn Demo\n",
    "\n",
    "by [Max Woolf](http://minimaxir.com)\n",
    "\n",
    "*Max's open-source projects are supported by his [Patreon](https://www.patreon.com/minimaxir). If you found this project helpful, any monetary contributions to the Patreon are appreciated and will be put to good creative use.*"
   ]
  },
  {
   "cell_type": "markdown",
   "metadata": {},
   "source": [
    "## Intro\n",
    "\n",
    "reactionrnn is a Python module on top of Keras/TensorFlow which can easily predict the proportionate reactions (love, wow, haha, sad, angry) to a given text using a pretrained recurrent neural network:"
   ]
  },
  {
   "cell_type": "code",
   "execution_count": 1,
   "metadata": {},
   "outputs": [
    {
     "name": "stderr",
     "output_type": "stream",
     "text": [
      "Using TensorFlow backend.\n"
     ]
    }
   ],
   "source": [
    "from reactionrnn import reactionrnn\n",
    "\n",
    "react = reactionrnn()"
   ]
  },
  {
   "cell_type": "markdown",
   "metadata": {},
   "source": [
    "The `reactionrnn` initializer builds a normal Keras model using pretrained weights, and can be accessed using the `.model` attribute:"
   ]
  },
  {
   "cell_type": "code",
   "execution_count": 2,
   "metadata": {
    "scrolled": true
   },
   "outputs": [
    {
     "name": "stdout",
     "output_type": "stream",
     "text": [
      "_________________________________________________________________\n",
      "Layer (type)                 Output Shape              Param #   \n",
      "=================================================================\n",
      "input (InputLayer)           (None, 140)               0         \n",
      "_________________________________________________________________\n",
      "embedding (Embedding)        (None, 140, 100)          40100     \n",
      "_________________________________________________________________\n",
      "rnn (GRU)                    (None, 256)               274176    \n",
      "_________________________________________________________________\n",
      "output (Dense)               (None, 5)                 1285      \n",
      "=================================================================\n",
      "Total params: 315,561\n",
      "Trainable params: 315,561\n",
      "Non-trainable params: 0\n",
      "_________________________________________________________________\n"
     ]
    },
    {
     "data": {
      "text/plain": [
       "array([[ 0.61926103,  0.05955176, -0.19037187, ...,  0.04486968,\n",
       "        -0.1982885 , -0.13359   ],\n",
       "       [ 0.2541163 ,  0.82486463, -0.59637159, ...,  0.13716327,\n",
       "        -0.17285788, -0.24066631],\n",
       "       [ 0.39044452,  0.26126146, -0.30949306, ..., -0.16419689,\n",
       "         0.30253917, -0.06857044],\n",
       "       ..., \n",
       "       [-0.24404441, -0.31984991,  0.02359354, ..., -0.07383229,\n",
       "         0.31076583, -0.13405246],\n",
       "       [-0.31463742, -0.20329736, -0.4156228 , ...,  0.20338874,\n",
       "         0.00286744,  0.08513979],\n",
       "       [-0.8035174 , -0.28070208,  0.35372871, ...,  0.13372001,\n",
       "        -0.0451884 , -0.05612914]], dtype=float32)"
      ]
     },
     "execution_count": 2,
     "metadata": {},
     "output_type": "execute_result"
    }
   ],
   "source": [
    "react.model.summary()\n",
    "react.model.get_layer('rnn').get_weights()[0]"
   ]
  },
  {
   "cell_type": "markdown",
   "metadata": {},
   "source": [
    "## Predict Reaction to Single Text\n",
    "\n",
    "The `predict` function returns an `OrderedDict` of the five predicted reactions to the given text, sorted from strongest to weakest."
   ]
  },
  {
   "cell_type": "code",
   "execution_count": 3,
   "metadata": {},
   "outputs": [
    {
     "name": "stdout",
     "output_type": "stream",
     "text": [
      "OrderedDict([('love', 0.9765), ('wow', 0.0235), ('haha', 0.0), ('sad', 0.0), ('angry', 0.0)])\n"
     ]
    }
   ],
   "source": [
    "prediction = react.predict(\"Happy Mother's Day from the Chicago Cubs!\")\n",
    "print(prediction)"
   ]
  },
  {
   "cell_type": "code",
   "execution_count": 4,
   "metadata": {},
   "outputs": [
    {
     "name": "stdout",
     "output_type": "stream",
     "text": [
      "OrderedDict([('wow', 0.9109), ('sad', 0.0891), ('love', 0.0), ('haha', 0.0), ('angry', 0.0)])\n",
      "OrderedDict([('haha', 0.8568), ('love', 0.1376), ('wow', 0.0056), ('sad', 0.0), ('angry', 0.0)])\n",
      "OrderedDict([('sad', 1.0), ('love', 0.0), ('wow', 0.0), ('haha', 0.0), ('angry', 0.0)])\n",
      "OrderedDict([('angry', 0.8667), ('wow', 0.1333), ('love', 0.0), ('haha', 0.0), ('sad', 0.0)])\n"
     ]
    }
   ],
   "source": [
    "print(react.predict(\"This is scary AF!😱😱\"))\n",
    "print(react.predict(\"When the soup is too hot 😂😂😂\"))\n",
    "print(react.predict(\"He was only 41.\"))\n",
    "print(react.predict(\"Everyone loves autoplaying videos!\"))"
   ]
  },
  {
   "cell_type": "markdown",
   "metadata": {},
   "source": [
    "Like a normal `dict`, you can access the value by key."
   ]
  },
  {
   "cell_type": "code",
   "execution_count": 5,
   "metadata": {},
   "outputs": [
    {
     "data": {
      "text/plain": [
       "0.0235"
      ]
     },
     "execution_count": 5,
     "metadata": {},
     "output_type": "execute_result"
    }
   ],
   "source": [
    "prediction['wow']"
   ]
  },
  {
   "cell_type": "markdown",
   "metadata": {},
   "source": [
    "It plays nice with JSON and Python's `json` module, if you want to use reactionrnn for an API."
   ]
  },
  {
   "cell_type": "code",
   "execution_count": 6,
   "metadata": {},
   "outputs": [
    {
     "name": "stdout",
     "output_type": "stream",
     "text": [
      "{\n",
      "    \"love\": 0.9765,\n",
      "    \"wow\": 0.0235,\n",
      "    \"haha\": 0.0,\n",
      "    \"sad\": 0.0,\n",
      "    \"angry\": 0.0\n",
      "}\n"
     ]
    }
   ],
   "source": [
    "import json\n",
    "print(json.dumps(prediction, indent=4))"
   ]
  },
  {
   "cell_type": "markdown",
   "metadata": {},
   "source": [
    "If you just want the strongest predicted label for a given text(s), you can access that with `predict_label`, which returns a `list` containing a reaction for each input. (good for classification)"
   ]
  },
  {
   "cell_type": "code",
   "execution_count": 7,
   "metadata": {},
   "outputs": [
    {
     "data": {
      "text/plain": [
       "['love']"
      ]
     },
     "execution_count": 7,
     "metadata": {},
     "output_type": "execute_result"
    }
   ],
   "source": [
    "react.predict_label(\"Happy Mother's Day from the Chicago Cubs!\")"
   ]
  },
  {
   "cell_type": "code",
   "execution_count": 8,
   "metadata": {},
   "outputs": [
    {
     "data": {
      "text/plain": [
       "['sad', 'angry']"
      ]
     },
     "execution_count": 8,
     "metadata": {},
     "output_type": "execute_result"
    }
   ],
   "source": [
    "react.predict_label([\"He was only 41.\", \"Everyone loves autoplaying videos!\"])"
   ]
  },
  {
   "cell_type": "markdown",
   "metadata": {},
   "source": [
    "## Predict Reaction to Multiple Texts\n",
    "\n",
    "If you provide a `list` of texts to `predict()`, the return value is a numpy array of (`n`, 5), where `n` is the number of texts. (columns are in the order of `(love, wow, haha, sad, angry)`)"
   ]
  },
  {
   "cell_type": "code",
   "execution_count": 9,
   "metadata": {},
   "outputs": [
    {
     "data": {
      "text/plain": [
       "array([[ 0.08376055,  0.        ,  0.91623938,  0.        ,  0.        ],\n",
       "       [ 0.09415939,  0.        ,  0.90584058,  0.        ,  0.        ],\n",
       "       [ 0.19280881,  0.1212144 ,  0.38475046,  0.30122641,  0.        ],\n",
       "       [ 0.07649462,  0.        ,  0.92350537,  0.        ,  0.        ]], dtype=float32)"
      ]
     },
     "execution_count": 9,
     "metadata": {},
     "output_type": "execute_result"
    }
   ],
   "source": [
    "texts = ['Never gonna give you up, never gonna let you down',\n",
    "            'Never gonna run around and desert you',\n",
    "            'Never gonna make you cry, never gonna say goodbye',\n",
    "            'Never gonna tell a lie and hurt you']\n",
    "\n",
    "react.predict(texts)"
   ]
  },
  {
   "cell_type": "markdown",
   "metadata": {},
   "source": [
    "## Encode Text as Vector\n",
    "\n",
    "You can also encode text as a 256D vector, which unlike those produced by word2vec/doc2vec/fasttext, incorporates the information provided by modern grammar including punctuation and emoji."
   ]
  },
  {
   "cell_type": "code",
   "execution_count": 10,
   "metadata": {},
   "outputs": [
    {
     "name": "stdout",
     "output_type": "stream",
     "text": [
      "[ 0.0411452   0.87985831  0.31406021  0.50111514  0.51543093  0.12899202\n",
      " -0.23730506  0.07143005  0.20887181  0.95970839]\n",
      "(1, 256)\n"
     ]
    }
   ],
   "source": [
    "encoding = react.encode(\"DYING. 😄\")\n",
    "print(encoding[0][0:10])\n",
    "print(encoding.shape)"
   ]
  },
  {
   "cell_type": "markdown",
   "metadata": {},
   "source": [
    "You can also encode multiple texts as vectors."
   ]
  },
  {
   "cell_type": "code",
   "execution_count": 11,
   "metadata": {},
   "outputs": [
    {
     "name": "stdout",
     "output_type": "stream",
     "text": [
      "[[-0.65013576 -0.11578681 -0.32001457 ..., -0.21620744  0.40326133\n",
      "   0.14626786]\n",
      " [ 0.00691345  0.02702127  0.0255055  ..., -0.54953575 -0.22651449\n",
      "   0.02594155]\n",
      " [ 0.38269144 -0.02336972  0.21063511 ...,  0.25455818 -0.36290079\n",
      "   0.13700774]\n",
      " [ 0.14133058  0.02101863 -0.18063194 ..., -0.22906038 -0.57762033\n",
      "  -0.18347938]]\n",
      "(4, 256)\n"
     ]
    }
   ],
   "source": [
    "encoding = react.encode(texts)\n",
    "print(encoding[0:10])\n",
    "print(encoding.shape)"
   ]
  },
  {
   "cell_type": "markdown",
   "metadata": {},
   "source": [
    "I strongly recommend using PCA to both reduce the high dimensionality of the text and align the given encoded texts in context of each other."
   ]
  },
  {
   "cell_type": "code",
   "execution_count": 12,
   "metadata": {},
   "outputs": [
    {
     "name": "stdout",
     "output_type": "stream",
     "text": [
      "[[-1.14232777  3.72827529]\n",
      " [-1.65552238 -1.5594023 ]\n",
      " [ 4.58220842 -0.34441789]\n",
      " [-1.78435827 -1.8244551 ]]\n"
     ]
    }
   ],
   "source": [
    "from sklearn.decomposition import PCA\n",
    "\n",
    "pca = PCA(n_components=2)\n",
    "pca.fit(encoding)\n",
    "print(pca.transform(encoding))"
   ]
  },
  {
   "cell_type": "code",
   "execution_count": 13,
   "metadata": {
    "scrolled": true
   },
   "outputs": [
    {
     "name": "stdout",
     "output_type": "stream",
     "text": [
      "[ 0.52853034  0.37035823]\n",
      "0.898888575824\n"
     ]
    }
   ],
   "source": [
    "print(pca.explained_variance_ratio_)\n",
    "print(sum(pca.explained_variance_ratio_))"
   ]
  },
  {
   "cell_type": "markdown",
   "metadata": {},
   "source": [
    "These 2 components explain about 90% of the variation in the text; something which would hard to achieve without overfitting on only 4 text documents!"
   ]
  },
  {
   "cell_type": "markdown",
   "metadata": {},
   "source": [
    "# LICENSE\n",
    "\n",
    "MIT License\n",
    "\n",
    "Copyright (c) 2017 Max Woolf\n",
    "\n",
    "Permission is hereby granted, free of charge, to any person obtaining a copy\n",
    "of this software and associated documentation files (the \"Software\"), to deal\n",
    "in the Software without restriction, including without limitation the rights\n",
    "to use, copy, modify, merge, publish, distribute, sublicense, and/or sell\n",
    "copies of the Software, and to permit persons to whom the Software is\n",
    "furnished to do so, subject to the following conditions:\n",
    "\n",
    "The above copyright notice and this permission notice shall be included in all\n",
    "copies or substantial portions of the Software.\n",
    "\n",
    "THE SOFTWARE IS PROVIDED \"AS IS\", WITHOUT WARRANTY OF ANY KIND, EXPRESS OR\n",
    "IMPLIED, INCLUDING BUT NOT LIMITED TO THE WARRANTIES OF MERCHANTABILITY,\n",
    "FITNESS FOR A PARTICULAR PURPOSE AND NONINFRINGEMENT. IN NO EVENT SHALL THE\n",
    "AUTHORS OR COPYRIGHT HOLDERS BE LIABLE FOR ANY CLAIM, DAMAGES OR OTHER\n",
    "LIABILITY, WHETHER IN AN ACTION OF CONTRACT, TORT OR OTHERWISE, ARISING FROM,\n",
    "OUT OF OR IN CONNECTION WITH THE SOFTWARE OR THE USE OR OTHER DEALINGS IN THE\n",
    "SOFTWARE."
   ]
  }
 ],
 "metadata": {
  "kernelspec": {
   "display_name": "Python 3",
   "language": "python",
   "name": "python3"
  },
  "language_info": {
   "codemirror_mode": {
    "name": "ipython",
    "version": 3
   },
   "file_extension": ".py",
   "mimetype": "text/x-python",
   "name": "python",
   "nbconvert_exporter": "python",
   "pygments_lexer": "ipython3",
   "version": "3.6.1"
  }
 },
 "nbformat": 4,
 "nbformat_minor": 2
}
